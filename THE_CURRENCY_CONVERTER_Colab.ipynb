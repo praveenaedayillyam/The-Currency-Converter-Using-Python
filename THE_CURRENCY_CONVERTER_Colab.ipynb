{
  "nbformat": 4,
  "nbformat_minor": 0,
  "metadata": {
    "colab": {
      "provenance": []
    },
    "kernelspec": {
      "name": "python3",
      "display_name": "Python 3"
    },
    "language_info": {
      "name": "python"
    }
  },
  "cells": [
    {
      "cell_type": "markdown",
      "source": [
        "### Python Project title :\n",
        "# **CURRENCY CONVERTER**\n",
        "[Click Here for Project Link](https://colab.research.google.com/drive/1P7pjgvqqXUtFxhkco-grqoil3rtHrCFT#scrollTo=bCE8Tnlf9AFv)\n"
      ],
      "metadata": {
        "id": "bCE8Tnlf9AFv"
      }
    },
    {
      "cell_type": "markdown",
      "source": [
        "\n",
        "This project is a personal currency conversion assistant, built in Python! It lets you easily switch between rupees and various foreign currencies, based on average exchange rates over the past year(2023)\n",
        "\n",
        "Imagine needing to know how much your euros are worth in rupees, or vice versa.\n",
        "\n",
        "Here's how it works:\n",
        "\n",
        "\n",
        "*   We've built a special dictionary containing average exchange rates for different currencies against the Indian rupee.\n",
        "* Each currency code is the key (like USD or EUR), and the value tells you how much one unit of that currency is worth in rupees.\n",
        "*   Simply tell the program , It Easily convert both INR to other currencies and other currencies to INR\n",
        "\n",
        "\n",
        "\n",
        "\n"
      ],
      "metadata": {
        "id": "PpjG1GaW_QCj"
      }
    },
    {
      "cell_type": "markdown",
      "source": [
        "**Calculating Average Annual values and updating the Dictionary**"
      ],
      "metadata": {
        "id": "94_sH7s5EdGm"
      }
    },
    {
      "cell_type": "code",
      "execution_count": 1,
      "metadata": {
        "id": "BglkxogukaAD"
      },
      "outputs": [],
      "source": [
        "in_INR=dict()\n",
        "\n",
        "#__USD(US doller)\n",
        "USD=(71.292754+71.591709 +74.530504 +76.363162 +75.738408 +75.813622 +74.662162 +73.565027 +73.565448 +74.265062 +73.739563)/12\n",
        "# print(x)\n",
        "in_INR['USD']=USD\n",
        "\n",
        "#___EUR(euro)\n",
        "EUR=(88.142064+88.464157+88.050487+89.964055+89.554082+89.077750+90.842440+90.406121+88.708572+87.943062+90.004112+90.877101)/12\n",
        "# print(y)\n",
        "in_INR['EUR']=EUR\n",
        "\n",
        "#____AUD(australian doller)\n",
        "AUD=(56.801195+56.958068+54.937272+54.818925+54.670051+55.175793+55.285156+53.729109+53.326482+52.851395+54.043809+55.738882)/12\n",
        "# print(AUD)\n",
        "in_INR['AUD']=AUD\n",
        "\n",
        "#____GBP(british pound)\n",
        "GBP=(100.041481+99.712505+99.755536+101.929933+102.687887+103.798255+105.787280+105.246903+102.949490+101.310626+103.335064+105.418861)/12\n",
        "# print(GBP)\n",
        "in_INR['GBP']=GBP\n",
        "\n",
        "#____CAD(canadian doler)\n",
        "CAD=(60.898044+61.449631+60.064364+60.754210+60.882935+61.813283+62.125644+61.481675+61.275746+60.747257+60.705448+62.046307)/12\n",
        "# print(CAD)\n",
        "in_INR['CAD']=CAD\n",
        "\n",
        "#____SGD(singapore doller)\n",
        "SGD=(61.679661+62.008599+61.307957+61.527907+61.426960+61.057107+61.527335+61.342233+60.905875+60.799677+61.709571+62.501865)/12\n",
        "# print(SGD)\n",
        "in_INR['SGD']=SGD\n",
        "\n",
        "#____AED(emirates dirhum)\n",
        "AED=(22.261805+22.489148+22.396434+22.315542+22.405886+22.381489+22.379217+22.555030+22.603583+22.663649+22.673382+22.667280)/12\n",
        "# print(AED)\n",
        "in_INR['AED']=AED\n",
        "\n",
        "#____ARS(argentina peso)\n",
        "ARS=(0.449927+0.431310+0.406665+0.381243+0.357208+0.332186+0.309878+0.259562+0.237255+0.237865+0.236016+0.134561)/12\n",
        "# print(ARS)\n",
        "in_INR['ARS']=ARS\n",
        "\n",
        "#____BGN(gulgarian dinar)\n",
        "BGN=(45.066322+45.231005+45.019499+45.997891+45.788275+45.544731+46.447002+46.223916+45.355973+44.964573+46.018372+46.464724)/12\n",
        "# print(BGN)\n",
        "in_INR['BGN']=BGN\n",
        "\n",
        "#____BHD(Bahraini dinar)\n",
        "BHD=(217.437446+219.657973+218.752399+217.962308+218.844722+218.606435+218.584236+220.301460+220.775683+221.362370+221.457438+221.397833)/12\n",
        "# print(BHD)\n",
        "in_INR['BHD']=BHD\n",
        "\n",
        "#____BRL(brazilian real)\n",
        "BRL=(15.735074+15.962007+15.765951+16.332415+16.543186+16.909165+17.121035+16.905117+16.789924+16.441639+16.979236+16.999323)/12\n",
        "# print(BRL)\n",
        "in_INR['BRL']=BRL\n",
        "\n",
        "#____CHF(swiss franc)\n",
        "CHF=(88.457679+89.215338+88.785791+91.098967+91.683333+91.262954+93.906924+94.316543+92.446166+92.097762+93.323893+96.236575)/12\n",
        "# print(CHF)\n",
        "in_INR['CHF']=CHF\n",
        "\n",
        "#____CNY(Chinease yuan renminbi)\n",
        "CNY=(12.028875+12.082450+11.930002+11.906241+11.788305+11.497172+11.427445+11.452466+11.402709+11.440045+11.537872+11.682046)/12\n",
        "# print(CNY)\n",
        "in_INR['CNY']=CNY\n",
        "\n",
        "#____HKD(hongkong doller)\n",
        "HKD=(10.455789+10.525120+10.478377+10.438167+10.497589+10.494134+10.511150+10.585299+10.600627+10.635743+10.666037+10.659044)/12\n",
        "# print(HKD)\n",
        "in_INR['HKD']=HKD\n",
        "\n",
        "#____ILS(israeli shekel)\n",
        "ILS=(23.726526+23.360291+22.709680+22.556217+22.443170+22.575236+22.407931+22.143208+21.749399+20.952895+21.840618+22.692474)/12\n",
        "# print(ILS)\n",
        "in_INR['ILS']=ILS\n",
        "\n",
        "#____JPY(japanese yen)\n",
        "JPY=(0.627919+0.621103+0.615257+0.614254+0.599954+0.582310+0.581897+0.572462+0.562114+0.556750+0.555437+0.578510)/12\n",
        "# print(JPY)\n",
        "in_INR['JPY']=JPY\n",
        "\n",
        "#____LKR(srilankan rupee)\n",
        "LKR=(0.223569+0.226209+0.247145+0.254014+0.265296+0.272037+0.257213+0.257462+0.256952+0.256074+0.253741+0.254849)/12\n",
        "# print(LKR)\n",
        "in_INR['LKR']=LKR\n",
        "\n",
        "#____PKR(pakistan rupee)\n",
        "PKR=(0.349729+0.308962+0.294214+0.288056+0.287337+0.286720+0.291167+0.282537+0.278033+0.296416+0.291431+0.293654)/12\n",
        "# print(PKR)\n",
        "in_INR['PKR']=PKR"
      ]
    },
    {
      "cell_type": "markdown",
      "source": [
        "**Final Dictionary**"
      ],
      "metadata": {
        "id": "7_EzU_ETEv1W"
      }
    },
    {
      "cell_type": "code",
      "source": [
        "for x,y in in_INR.items():\n",
        "  print(x,\" : \",y)"
      ],
      "metadata": {
        "colab": {
          "base_uri": "https://localhost:8080/"
        },
        "id": "Bp57-yuZE3vD",
        "outputId": "b8c20ace-fa3c-4a2c-85b6-c24eeee14988"
      },
      "execution_count": 2,
      "outputs": [
        {
          "output_type": "stream",
          "name": "stdout",
          "text": [
            "USD  :  67.92728508333332\n",
            "EUR  :  89.33616691666667\n",
            "AUD  :  54.86134475\n",
            "GBP  :  102.66448508333333\n",
            "CAD  :  61.18704533333334\n",
            "SGD  :  61.482895583333324\n",
            "AED  :  22.48270375\n",
            "ARS  :  0.31447300000000006\n",
            "BGN  :  45.67685691666667\n",
            "BHD  :  219.59502524999996\n",
            "BRL  :  16.540339333333336\n",
            "CHF  :  91.90266041666668\n",
            "CNY  :  11.681302333333335\n",
            "HKD  :  10.545589666666666\n",
            "ILS  :  22.42980375\n",
            "JPY  :  0.5889972499999999\n",
            "LKR  :  0.25204675000000004\n",
            "PKR  :  0.295688\n"
          ]
        }
      ]
    },
    {
      "cell_type": "markdown",
      "source": [
        "**The Converter**"
      ],
      "metadata": {
        "id": "jRzFfKtNFQuP"
      }
    },
    {
      "cell_type": "code",
      "source": [
        "print(\"\\n___________________________________________CURRENCY CONVERTER___________________________________________\\n\")\n",
        "\n",
        "while(True):\n",
        "  try:\n",
        "    choice=int(input(\"1 . Convert Other Currency to INR\\n2 . Convert INR to Other Currency\\n\\nEnter your choice : \"))\n",
        "  except ValueError:\n",
        "    print(\"                                          x x x x x   Enter valid Input  ( Either number 1 or number 2 ONLY )   x x x x x\\n\\n\")\n",
        "    continue\n",
        "\n",
        "  if choice==1 or choice==2:\n",
        "    break\n",
        "  else:\n",
        "    print(\"                                          x x x x x   Enter valid Input  ( Either number 1 or number 2 ONLY )   x x x x x\\n\\n\")\n",
        "\n",
        "\n",
        "if choice==1:\n",
        "  while(True):\n",
        "    try:\n",
        "      print()\n",
        "      amount=float(input(\"\\nEnter the Amount  :  \"))\n",
        "    except ValueError:\n",
        "          print(\"\\n                                          x x x x x   Invalid input. Please enter a number.   x x x x x\\n\")\n",
        "          continue\n",
        "\n",
        "    if amount<0:\n",
        "      print(\"\\n                                          x x x x x   Enter a valid amount . Amount should be greater than or equal to Zero !!   x x x x x\")\n",
        "      continue\n",
        "\n",
        "    print(\"\\n    USD for United States Dollar (USA)\\n\",\n",
        "    \"   EUR for Euro (European Union)\\n\",\n",
        "    \"   AUD for Australian Dollar (Australia)\\n\",\n",
        "    \"   GBP for British Pound Sterling (United Kingdom)\\n\",\n",
        "    \"   CAD for Canadian Dollar (Canada)\\n\",\n",
        "    \"   SGD for Singapore Dollar (Singapore)\\n\",\n",
        "    \"   AED for United Arab Emirates Dirham (United Arab Emirates)\\n\",\n",
        "    \"   ARS for Argentine Peso (Argentina)\\n\",\n",
        "    \"   BGN for Bulgarian Lev (Bulgaria)\\n\",\n",
        "    \"   BHD for Bahraini Dinar (Bahrain)\\n\",\n",
        "    \"   BRL for Brazilian Real (Brazil)\\n\",\n",
        "    \"   CHF for Swiss Franc (Switzerland)\\n\",\n",
        "    \"   CNY for Renminbi (China)\\n\",\n",
        "    \"   HKD for Hong Kong Dollar (Hong Kong)\\n\",\n",
        "    \"   ILS for Israeli New Shekel (Israel)\\n\",\n",
        "    \"   JPY for Japanese Yen (Japan)\\n\",\n",
        "    \"   LKR for Sri Lankan Rupee (Sri Lanka)\\n\",\n",
        "    \"   PKR for Pakistani Rupee (Pakistan)\" )\n",
        "\n",
        "    while(True):\n",
        "      currency_code=input(\"\\nEnter Currency Code : \").upper().strip()\n",
        "      if currency_code in in_INR.keys():\n",
        "        converter = amount * in_INR[currency_code]\n",
        "        print(\"-----------------------------------------------------------------------------------------------\\n\")\n",
        "        print(amount,currency_code,\"is equal to\" ,converter,\"Indian Rupees\\n\\n\\n\")\n",
        "      else:\n",
        "        print(\"                                          x x x x x   Invalid currency code. Please input valid Currency Code   x x x x x\")\n",
        "        continue\n",
        "      break\n",
        "    break\n",
        "\n",
        "\n",
        "\n",
        "if choice==2:\n",
        "  while(True):\n",
        "    try:\n",
        "      print()\n",
        "      amount=float(input(\"\\nEnter the Amount  :  \"))\n",
        "    except ValueError:\n",
        "          print(\"\\n                                          x x x x x   Invalid input. Please enter a number.   x x x x x\\n\")\n",
        "          continue\n",
        "\n",
        "    if amount<0:\n",
        "      print(\"\\n                                          x x x x x   Enter a valid amount . Amount should be greater than or equal to Zero !!   x x x x x\")\n",
        "      continue\n",
        "\n",
        "    print(\"\\n    USD for United States Dollar (USA)\\n\",\n",
        "    \"   EUR for Euro (European Union)\\n\",\n",
        "    \"   AUD for Australian Dollar (Australia)\\n\",\n",
        "    \"   GBP for British Pound Sterling (United Kingdom)\\n\",\n",
        "    \"   CAD for Canadian Dollar (Canada)\\n\",\n",
        "    \"   SGD for Singapore Dollar (Singapore)\\n\",\n",
        "    \"   AED for United Arab Emirates Dirham (United Arab Emirates)\\n\",\n",
        "    \"   ARS for Argentine Peso (Argentina)\\n\",\n",
        "    \"   BGN for Bulgarian Lev (Bulgaria)\\n\",\n",
        "    \"   BHD for Bahraini Dinar (Bahrain)\\n\",\n",
        "    \"   BRL for Brazilian Real (Brazil)\\n\",\n",
        "    \"   CHF for Swiss Franc (Switzerland)\\n\",\n",
        "    \"   CNY for Renminbi (China)\\n\",\n",
        "    \"   HKD for Hong Kong Dollar (Hong Kong)\\n\",\n",
        "    \"   ILS for Israeli New Shekel (Israel)\\n\",\n",
        "    \"   JPY for Japanese Yen (Japan)\\n\",\n",
        "    \"   LKR for Sri Lankan Rupee (Sri Lanka)\\n\",\n",
        "    \"   PKR for Pakistani Rupee (Pakistan)\" )\n",
        "\n",
        "    while(True):\n",
        "      currency_code=input(\"\\nEnter Currency Code : \").upper().strip()\n",
        "      if currency_code in in_INR.keys():\n",
        "        converter = amount / in_INR[currency_code]\n",
        "        print(\"-----------------------------------------------------------------------------------------------\\n\")\n",
        "        print(amount,\"Indian Rupees is equal to\" ,converter,currency_code,\"\\n\\n\\n\")\n",
        "      else:\n",
        "        print(\"                                          x x x x x   Invalid currency code. Please input valid Currency Code   x x x x x\")\n",
        "        continue\n",
        "      break\n",
        "    break\n",
        "\n",
        "\n",
        "\n"
      ],
      "metadata": {
        "colab": {
          "base_uri": "https://localhost:8080/"
        },
        "id": "aQ1rCBoV_e6K",
        "outputId": "d14131b3-050a-4c1d-a66c-7e4fbc46ef8f"
      },
      "execution_count": 3,
      "outputs": [
        {
          "output_type": "stream",
          "name": "stdout",
          "text": [
            "\n",
            "___________________________________________CURRENCY CONVERTER___________________________________________\n",
            "\n",
            "1 . Convert Other Currency to INR\n",
            "2 . Convert INR to Other Currency\n",
            "\n",
            "Enter your choice : 1\n",
            "\n",
            "\n",
            "Enter the Amount  :  100\n",
            "\n",
            "    USD for United States Dollar (USA)\n",
            "    EUR for Euro (European Union)\n",
            "    AUD for Australian Dollar (Australia)\n",
            "    GBP for British Pound Sterling (United Kingdom)\n",
            "    CAD for Canadian Dollar (Canada)\n",
            "    SGD for Singapore Dollar (Singapore)\n",
            "    AED for United Arab Emirates Dirham (United Arab Emirates)\n",
            "    ARS for Argentine Peso (Argentina)\n",
            "    BGN for Bulgarian Lev (Bulgaria)\n",
            "    BHD for Bahraini Dinar (Bahrain)\n",
            "    BRL for Brazilian Real (Brazil)\n",
            "    CHF for Swiss Franc (Switzerland)\n",
            "    CNY for Renminbi (China)\n",
            "    HKD for Hong Kong Dollar (Hong Kong)\n",
            "    ILS for Israeli New Shekel (Israel)\n",
            "    JPY for Japanese Yen (Japan)\n",
            "    LKR for Sri Lankan Rupee (Sri Lanka)\n",
            "    PKR for Pakistani Rupee (Pakistan)\n",
            "\n",
            "Enter Currency Code : USD\n",
            "-----------------------------------------------------------------------------------------------\n",
            "\n",
            "100.0 USD is equal to 6792.728508333332 Indian Rupees\n",
            "\n",
            "\n",
            "\n"
          ]
        }
      ]
    }
  ]
}